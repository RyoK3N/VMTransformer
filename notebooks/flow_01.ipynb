{
 "cells": [
  {
   "cell_type": "markdown",
   "metadata": {},
   "source": [
    "# Testing the dataset"
   ]
  },
  {
   "cell_type": "code",
   "execution_count": 3,
   "metadata": {},
   "outputs": [
    {
     "name": "stdout",
     "output_type": "stream",
     "text": [
      "/Users/ryok3n/Desktop/Workspace/LEARN/Julia/Sparrow/GTransformer\n"
     ]
    }
   ],
   "source": [
    "cd .."
   ]
  },
  {
   "cell_type": "code",
   "execution_count": 7,
   "metadata": {},
   "outputs": [],
   "source": [
    "import os\n",
    "from dotenv import load_dotenv\n",
    "from dataloaders.dataset import MocapDataset\n",
    "\n",
    "# Define the skeleton structure\n",
    "connections = [\n",
    "    ('Head', 'Neck'), ('Neck', 'Chest'),\n",
    "    ('Chest',\"LeftShoulder\"),('LeftShoulder', 'LeftArm'),\n",
    "    ('LeftArm', 'LeftForearm'), ('LeftForearm', 'LeftHand'),\n",
    "    ('Chest', 'RightShoulder'), ('RightShoulder', 'RightArm'),\n",
    "    ('RightArm', 'RightForearm'), ('RightForearm', 'RightHand'),\n",
    "    ('Hips', 'LeftThigh'), ('LeftThigh', 'LeftLeg'),\n",
    "    ('LeftLeg', 'LeftFoot'), ('Hips', 'RightThigh'),\n",
    "    ('RightThigh', 'RightLeg'), ('RightLeg', 'RightFoot'),\n",
    "    ('RightHand', 'RightFinger'), ('RightFinger', 'RightFingerEnd'),\n",
    "    ('LeftHand', 'LeftFinger'), ('LeftFinger', 'LeftFingerEnd'),\n",
    "    ('Head', 'HeadEnd'), ('RightFoot', 'RightHeel'),\n",
    "    ('RightHeel', 'RightToe'), ('RightToe', 'RightToeEnd'),\n",
    "    ('LeftFoot', 'LeftHeel'), ('LeftHeel', 'LeftToe'),\n",
    "    ('LeftToe', 'LeftToeEnd'),\n",
    "    ('SpineLow', 'Hips'), ('SpineMid', 'SpineLow'), ('Chest', 'SpineMid')\n",
    "]\n",
    "\n",
    "joints_left = [\n",
    "    'LeftShoulder', 'LeftArm', 'LeftForearm', 'LeftHand', 'LeftFinger', 'LeftFingerEnd',\n",
    "    'LeftThigh', 'LeftLeg', 'LeftFoot', 'LeftHeel', 'LeftToe', 'LeftToeEnd'\n",
    "]\n",
    "\n",
    "joints_right = [\n",
    "    'RightShoulder', 'RightArm', 'RightForearm', 'RightHand', 'RightFinger', 'RightFingerEnd',\n",
    "    'RightThigh', 'RightLeg', 'RightFoot', 'RightHeel', 'RightToe', 'RightToeEnd'\n",
    "]\n",
    "\n",
    "skeleton = {\n",
    "    'connections': connections,\n",
    "    'joints_left': joints_left, \n",
    "    'joints_right': joints_right\n",
    "}\n",
    "\n",
    "# Initialize dataset\n",
    "load_dotenv()\n",
    "uri = os.getenv('URI')\n",
    "if not uri:\n",
    "    raise EnvironmentError(\"Please set the 'URI' environment variable in your .env file.\")\n",
    "\n",
    "dataset = MocapDataset(\n",
    "    uri=uri,\n",
    "    db_name='ai',\n",
    "    collection_name='cameraPoses',\n",
    "    skeleton=skeleton\n",
    ")"
   ]
  },
  {
   "cell_type": "code",
   "execution_count": 8,
   "metadata": {},
   "outputs": [
    {
     "name": "stdout",
     "output_type": "stream",
     "text": [
      "Dataset size: 513253\n",
      "\n",
      "Shape of 2D keypoints: torch.Size([62])\n",
      "Shape of 3D keypoints: torch.Size([93])\n",
      "Shape of camera matrix: torch.Size([16])\n",
      "\n",
      "Number of joints: 31\n",
      "First few joint names: ['Chest', 'Head', 'HeadEnd', 'Hips', 'LeftArm', 'LeftFinger', 'LeftFingerEnd', 'LeftFoot', 'LeftForearm', 'LeftHand', 'LeftHeel', 'LeftLeg', 'LeftShoulder', 'LeftThigh', 'LeftToe', 'LeftToeEnd', 'Neck', 'RightArm', 'RightFinger', 'RightFingerEnd', 'RightFoot', 'RightForearm', 'RightHand', 'RightHeel', 'RightLeg', 'RightShoulder', 'RightThigh', 'RightToe', 'RightToeEnd', 'SpineLow', 'SpineMid']\n"
     ]
    }
   ],
   "source": [
    "idx = 0\n",
    "keypoints_2d, keypoints_3d, camera_matrix, joint_names, joint_indices = dataset[idx]\n",
    "\n",
    "print(f\"Dataset size: {len(dataset)}\")\n",
    "print(f\"\\nShape of 2D keypoints: {keypoints_2d.shape}\")\n",
    "print(f\"Shape of 3D keypoints: {keypoints_3d.shape}\")\n",
    "print(f\"Shape of camera matrix: {camera_matrix.shape}\")\n",
    "print(f\"\\nNumber of joints: {len(joint_names)}\")\n",
    "print(\"First few joint names:\", joint_names[:])"
   ]
  }
 ],
 "metadata": {
  "kernelspec": {
   "display_name": "caps_net",
   "language": "python",
   "name": "python3"
  },
  "language_info": {
   "codemirror_mode": {
    "name": "ipython",
    "version": 3
   },
   "file_extension": ".py",
   "mimetype": "text/x-python",
   "name": "python",
   "nbconvert_exporter": "python",
   "pygments_lexer": "ipython3",
   "version": "3.12.7"
  }
 },
 "nbformat": 4,
 "nbformat_minor": 2
}
